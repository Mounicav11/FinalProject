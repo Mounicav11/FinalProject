{
  "cells": [
    {
      "cell_type": "markdown",
      "metadata": {
        "id": "WO-d1jcZK4Nt"
      },
      "source": [
        "**Import Libraries**"
      ]
    },
    {
      "cell_type": "code",
      "execution_count": 5,
      "metadata": {
        "id": "cFSCJ9reKxdP"
      },
      "outputs": [
        {
          "ename": "ModuleNotFoundError",
          "evalue": "No module named 'pandas'",
          "output_type": "error",
          "traceback": [
            "\u001b[1;31m---------------------------------------------------------------------------\u001b[0m",
            "\u001b[1;31mModuleNotFoundError\u001b[0m                       Traceback (most recent call last)",
            "\u001b[1;32mc:\\Users\\Utkarsh Deep\\OneDrive\\Desktop\\ㅤ\\Others\\FaceExpression_frontend\\flask-server\\main.ipynb Cell 2\u001b[0m line \u001b[0;36m2\n\u001b[0;32m      <a href='vscode-notebook-cell:/c%3A/Users/Utkarsh%20Deep/OneDrive/Desktop/%E3%85%A4/Others/FaceExpression_frontend/flask-server/main.ipynb#W1sZmlsZQ%3D%3D?line=0'>1</a>\u001b[0m \u001b[39mimport\u001b[39;00m \u001b[39mnumpy\u001b[39;00m \u001b[39mas\u001b[39;00m \u001b[39mnp\u001b[39;00m \n\u001b[1;32m----> <a href='vscode-notebook-cell:/c%3A/Users/Utkarsh%20Deep/OneDrive/Desktop/%E3%85%A4/Others/FaceExpression_frontend/flask-server/main.ipynb#W1sZmlsZQ%3D%3D?line=1'>2</a>\u001b[0m \u001b[39mimport\u001b[39;00m \u001b[39mpandas\u001b[39;00m \u001b[39mas\u001b[39;00m \u001b[39mpd\u001b[39;00m\n\u001b[0;32m      <a href='vscode-notebook-cell:/c%3A/Users/Utkarsh%20Deep/OneDrive/Desktop/%E3%85%A4/Others/FaceExpression_frontend/flask-server/main.ipynb#W1sZmlsZQ%3D%3D?line=2'>3</a>\u001b[0m \u001b[39mimport\u001b[39;00m \u001b[39mmatplotlib\u001b[39;00m\u001b[39m.\u001b[39;00m\u001b[39mpyplot\u001b[39;00m \u001b[39mas\u001b[39;00m \u001b[39mplt\u001b[39;00m\n\u001b[0;32m      <a href='vscode-notebook-cell:/c%3A/Users/Utkarsh%20Deep/OneDrive/Desktop/%E3%85%A4/Others/FaceExpression_frontend/flask-server/main.ipynb#W1sZmlsZQ%3D%3D?line=3'>4</a>\u001b[0m \u001b[39mimport\u001b[39;00m \u001b[39mseaborn\u001b[39;00m \u001b[39mas\u001b[39;00m \u001b[39msns\u001b[39;00m\n",
            "\u001b[1;31mModuleNotFoundError\u001b[0m: No module named 'pandas'"
          ]
        }
      ],
      "source": [
        "import numpy as np \n",
        "import pandas as pd\n",
        "import matplotlib.pyplot as plt\n",
        "import seaborn as sns\n",
        "import cv2\n",
        "import os\n",
        "import random\n",
        "from tqdm import tqdm\n",
        "from sklearn.model_selection import train_test_split\n",
        "import tensorflow as tf\n",
        "from tensorflow.keras.preprocessing.image import ImageDataGenerator\n",
        "from tensorflow.keras.models import Sequential\n",
        "from tensorflow.keras.callbacks import Callback, EarlyStopping, ReduceLROnPlateau\n",
        "from tensorflow.keras.layers import Conv2D, BatchNormalization, MaxPool2D, Dropout, Flatten, Dense\n",
        "from tensorflow.keras.optimizers import Adam,RMSprop,SGD,Adamax\n",
        "from tensorflow.keras import regularizers\n",
        "from tensorflow.keras.utils import plot_model"
      ]
    },
    {
      "cell_type": "markdown",
      "metadata": {
        "id": "ZfphWn-GOuQQ"
      },
      "source": [
        "## Import data form Google Drive "
      ]
    },
    {
      "cell_type": "code",
      "execution_count": null,
      "metadata": {
        "colab": {
          "base_uri": "https://localhost:8080/"
        },
        "id": "9XAUYFd46K2O",
        "outputId": "8f5831f4-e0b0-4b10-e5f0-a893fd78756a"
      },
      "outputs": [
        {
          "name": "stdout",
          "output_type": "stream",
          "text": [
            "Mounted at /content/drive\n"
          ]
        }
      ],
      "source": [
        "from google.colab import drive\n",
        "drive.mount('/content/drive')"
      ]
    },
    {
      "cell_type": "code",
      "execution_count": null,
      "metadata": {
        "id": "bQGGLFVQOIVC"
      },
      "outputs": [],
      "source": [
        "DATADIR = \"/content/drive/MyDrive/CK+48\""
      ]
    },
    {
      "cell_type": "code",
      "execution_count": null,
      "metadata": {
        "colab": {
          "base_uri": "https://localhost:8080/"
        },
        "id": "q5GHVAsAOKPn",
        "outputId": "b71b3086-7924-4616-f15d-5eb91bfce709"
      },
      "outputs": [
        {
          "data": {
            "text/plain": [
              "['sadness', 'contempt', 'disgust', 'surprise', 'happy', 'fear', 'anger']"
            ]
          },
          "execution_count": 4,
          "metadata": {},
          "output_type": "execute_result"
        }
      ],
      "source": [
        "CATEGORIES = os.listdir(DATADIR)  # list of directory\n",
        "CATEGORIES"
      ]
    },
    {
      "cell_type": "code",
      "execution_count": null,
      "metadata": {
        "id": "PVi5w6riOPyy"
      },
      "outputs": [],
      "source": [
        "def load_data():\n",
        "    DATADIR =\"/content/drive/MyDrive/CK+48\"\n",
        "    data = []\n",
        "    # loading training data\n",
        "    for category in CATEGORIES:\n",
        "        # create path to image of respective expression\n",
        "        path = os.path.join(DATADIR, category)\n",
        "        # get the classification  for each expression \n",
        "        class_num = CATEGORIES.index(category)\n",
        "\n",
        "        for img in tqdm(os.listdir(path)):\n",
        "            img_array = cv2.imread(os.path.join(path, img), 0)\n",
        "            data.append([img_array, class_num])\n",
        "            \n",
        "    return data"
      ]
    },
    {
      "cell_type": "code",
      "execution_count": null,
      "metadata": {
        "colab": {
          "base_uri": "https://localhost:8080/"
        },
        "id": "YDBNW7-cO766",
        "outputId": "a102beb5-3dac-4cdd-f17a-29e33b57ab5a"
      },
      "outputs": [
        {
          "name": "stderr",
          "output_type": "stream",
          "text": [
            "100%|██████████| 84/84 [00:12<00:00,  6.62it/s]\n",
            "100%|██████████| 54/54 [00:08<00:00,  6.02it/s]\n",
            "100%|██████████| 177/177 [00:01<00:00, 113.39it/s]\n",
            "100%|██████████| 249/249 [00:03<00:00, 81.24it/s]\n",
            "100%|██████████| 207/207 [00:02<00:00, 81.63it/s] \n",
            "100%|██████████| 75/75 [00:11<00:00,  6.32it/s]\n",
            "100%|██████████| 135/135 [00:01<00:00, 118.47it/s]\n"
          ]
        },
        {
          "data": {
            "text/plain": [
              "981"
            ]
          },
          "execution_count": 6,
          "metadata": {},
          "output_type": "execute_result"
        }
      ],
      "source": [
        "data = load_data()\n",
        "len(data)"
      ]
    },
    {
      "cell_type": "markdown",
      "metadata": {
        "id": "wg71gAUjPCW1"
      },
      "source": [
        "## Lets Visualize some images"
      ]
    },
    {
      "cell_type": "code",
      "execution_count": null,
      "metadata": {
        "colab": {
          "base_uri": "https://localhost:8080/",
          "height": 837
        },
        "id": "njuQmPJTO8sF",
        "outputId": "e9a7698d-22d4-4966-f09d-96bc3b6cd644"
      },
      "outputs": [
        {
          "data": {
            "image/png": "[encoded data removed]",
            "text/plain": [
              "<Figure size 1080x1080 with 16 Axes>"
            ]
          },
          "metadata": {
            "needs_background": "light"
          },
          "output_type": "display_data"
        }
      ],
      "source": [
        "L = 4\n",
        "W = 4\n",
        "fig, axes = plt.subplots(L, W, figsize = (15,15))\n",
        "axes = axes.ravel()\n",
        "\n",
        "for i in range(0, L * W):  \n",
        "    sample = random.choice(data)\n",
        "    axes[i].set_title(\"Expression = \"+str(CATEGORIES[sample[1]]))\n",
        "    axes[i].imshow(sample[0], cmap='gray')\n",
        "    axes[i].axis('off')\n",
        "plt.subplots_adjust(wspace=0.5)"
      ]
    },
    {
      "cell_type": "markdown",
      "metadata": {
        "id": "Vb230qocSxt3"
      },
      "source": [
        "## Creating training and testing data"
      ]
    },
    {
      "cell_type": "code",
      "execution_count": null,
      "metadata": {
        "id": "B9KWclOlS-ZY"
      },
      "outputs": [],
      "source": [
        "X = np.array([x[0] for x in data])\n",
        "y = np.array([Y[1] for Y in data])"
      ]
    },
    {
      "cell_type": "code",
      "execution_count": null,
      "metadata": {
        "id": "vzI2bki1T4bw"
      },
      "outputs": [],
      "source": [
        "X_train, X_test, y_train, y_test = train_test_split(X, y, test_size=0.2, random_state=42, shuffle = True)"
      ]
    },
    {
      "cell_type": "code",
      "execution_count": null,
      "metadata": {
        "colab": {
          "base_uri": "https://localhost:8080/"
        },
        "id": "8-cybGM-T5Rc",
        "outputId": "3a8d677f-ef80-4728-b0c5-00b46f72ff0e"
      },
      "outputs": [
        {
          "name": "stdout",
          "output_type": "stream",
          "text": [
            "X_train shape:  (784, 48, 48)\n",
            "y_train shape:  (784,)\n",
            "-------------------------------\n",
            "X_test shape:  (197, 48, 48)\n",
            "y_test shape:  (197,)\n"
          ]
        }
      ],
      "source": [
        "print(\"X_train shape: \", X_train.shape)\n",
        "print(\"y_train shape: \", y_train.shape)\n",
        "print(\"-------------------------------\")\n",
        "print(\"X_test shape: \", X_test.shape)\n",
        "print(\"y_test shape: \", y_test.shape)"
      ]
    },
    {
      "cell_type": "code",
      "execution_count": null,
      "metadata": {
        "colab": {
          "base_uri": "https://localhost:8080/"
        },
        "id": "ib2T0In5T7yH",
        "outputId": "056f766e-22ff-40d8-9760-38a3d4463ae0"
      },
      "outputs": [
        {
          "name": "stdout",
          "output_type": "stream",
          "text": [
            "After reshaping\n",
            "y_train shape:  (784, 1)\n",
            "y_test shape:  (197, 1)\n"
          ]
        }
      ],
      "source": [
        "# reshaping y_train and y_test\n",
        "y_train = np.reshape(y_train, (len(y_train),1))\n",
        "y_test  = np.reshape(y_test , (len(y_test ),1))\n",
        "\n",
        "print(\"After reshaping\")\n",
        "print(\"y_train shape: \", y_train.shape)\n",
        "print(\"y_test shape: \", y_test.shape)"
      ]
    },
    {
      "cell_type": "code",
      "execution_count": null,
      "metadata": {
        "id": "kEwjUzvvUAY8"
      },
      "outputs": [],
      "source": [
        "X_train_Gabor  = X_train\n",
        "X_test_Gabor = X_test"
      ]
    },
    {
      "cell_type": "code",
      "execution_count": null,
      "metadata": {
        "colab": {
          "base_uri": "https://localhost:8080/"
        },
        "id": "yYOdwyOqVbkF",
        "outputId": "cd080883-013f-41d1-887c-fc7114f4887a"
      },
      "outputs": [
        {
          "name": "stdout",
          "output_type": "stream",
          "text": [
            "(784, 48, 48)\n",
            "(197, 48, 48)\n"
          ]
        }
      ],
      "source": [
        "print(X_train.shape)\n",
        "print(X_test.shape)"
      ]
    },
    {
      "cell_type": "markdown",
      "metadata": {
        "id": "Yz6PyLLDVI8T"
      },
      "source": [
        "## Adding colour channel"
      ]
    },
    {
      "cell_type": "code",
      "execution_count": null,
      "metadata": {
        "colab": {
          "base_uri": "https://localhost:8080/"
        },
        "id": "RAAPfv3MVVwp",
        "outputId": "123e90b2-0cb4-42d7-f714-ba3300c15ec8"
      },
      "outputs": [
        {
          "name": "stdout",
          "output_type": "stream",
          "text": [
            "After adding color channel\n",
            "X_train shape:  (784, 48, 48, 1)\n",
            "X_test shape:  (197, 48, 48, 1)\n"
          ]
        }
      ],
      "source": [
        "X_train = np.expand_dims(X_train, axis=3)\n",
        "X_test = np.expand_dims(X_test, axis=3)\n",
        "\n",
        "print(\"After adding color channel\")\n",
        "print(\"X_train shape: \", X_train.shape)\n",
        "print(\"X_test shape: \", X_test.shape)"
      ]
    },
    {
      "cell_type": "markdown",
      "metadata": {
        "id": "gKSyl9nZV_he"
      },
      "source": [
        "## Normalizing pixel values"
      ]
    },
    {
      "cell_type": "code",
      "execution_count": null,
      "metadata": {
        "id": "qZohCMamWDEE"
      },
      "outputs": [],
      "source": [
        "X_train = X_train / 255.0\n",
        "X_test = X_test / 255.0"
      ]
    },
    {
      "cell_type": "markdown",
      "metadata": {
        "id": "4920j-XSXnM1"
      },
      "source": [
        "## Converting single values to category array"
      ]
    },
    {
      "cell_type": "code",
      "execution_count": null,
      "metadata": {
        "colab": {
          "base_uri": "https://localhost:8080/"
        },
        "id": "5dDWsO9mXwd2",
        "outputId": "3936fc3a-61cd-4d93-c9cf-0aca709d8f6e"
      },
      "outputs": [
        {
          "data": {
            "text/plain": [
              "array([6])"
            ]
          },
          "execution_count": 16,
          "metadata": {},
          "output_type": "execute_result"
        }
      ],
      "source": [
        "y_train[0]"
      ]
    },
    {
      "cell_type": "code",
      "execution_count": null,
      "metadata": {
        "id": "iCW302TOXzTV"
      },
      "outputs": [],
      "source": [
        "y_train_SVM = y_train\n",
        "y_test_SVM = y_test\n",
        "\n",
        "y_train = tf.keras.utils.to_categorical(y_train)\n",
        "y_test = tf.keras.utils.to_categorical(y_test)"
      ]
    },
    {
      "cell_type": "code",
      "execution_count": null,
      "metadata": {
        "colab": {
          "base_uri": "https://localhost:8080/"
        },
        "id": "WCV3YL24X6b7",
        "outputId": "1abfc4a5-37b4-48b5-8444-e39d6a6c6ed4"
      },
      "outputs": [
        {
          "data": {
            "text/plain": [
              "array([0., 0., 0., 0., 0., 0., 1.], dtype=float32)"
            ]
          },
          "execution_count": 18,
          "metadata": {},
          "output_type": "execute_result"
        }
      ],
      "source": [
        "y_train[0]"
      ]
    },
    {
      "cell_type": "code",
      "execution_count": null,
      "metadata": {
        "colab": {
          "base_uri": "https://localhost:8080/"
        },
        "id": "vMOAWM9QX9Fv",
        "outputId": "8bb20c94-7e23-4fad-f54e-c78ac2b3075b"
      },
      "outputs": [
        {
          "data": {
            "text/plain": [
              "((784, 7), (197, 7))"
            ]
          },
          "execution_count": 19,
          "metadata": {},
          "output_type": "execute_result"
        }
      ],
      "source": [
        "y_train.shape, y_test.shape"
      ]
    },
    {
      "cell_type": "markdown",
      "metadata": {
        "id": "HBx79Zp6Yf8Z"
      },
      "source": [
        "## **Creat CNN Model**"
      ]
    },
    {
      "cell_type": "code",
      "execution_count": null,
      "metadata": {
        "id": "xHRPgQIGYmfp"
      },
      "outputs": [],
      "source": [
        "def create_model(input_shape=None):\n",
        "    if input_shape is None :\n",
        "        input_shape=(48,48,1)\n",
        "\n",
        "    model = Sequential()\n",
        "    model.add(Conv2D(7, (5, 5), input_shape=input_shape, padding='same', activation = 'relu'))\n",
        "    model.add(MaxPool2D(pool_size=(2, 2)))\n",
        "\n",
        "    model.add(Conv2D(16, (5, 5), padding='same', activation = 'relu'))\n",
        "    model.add(MaxPool2D(pool_size=(2, 2)))\n",
        "    model.add(Dropout(0.4))\n",
        "\n",
        "    model.add(Conv2D(64, (3, 3), activation = 'relu'))\n",
        "    model.add(MaxPool2D(pool_size=(2, 2)))\n",
        "    model.add(Dropout(0.4))\n",
        "\n",
        "    model.add(Flatten())\n",
        "    \n",
        "    model.add(Dense(128, activation = 'relu'))\n",
        "    \n",
        "    \n",
        "    model.add(Dense(7, activation = 'softmax'))\n",
        "    \n",
        "    return model "
      ]
    },
    {
      "cell_type": "code",
      "execution_count": null,
      "metadata": {
        "id": "PoRAjAG9Yo6p"
      },
      "outputs": [],
      "source": [
        "es = EarlyStopping(\n",
        "    monitor='val_accuracy', min_delta=0.0001, patience=10, verbose=2,\n",
        "    mode='max', baseline=None, restore_best_weights=True\n",
        ")\n",
        "lr = ReduceLROnPlateau(\n",
        "    monitor='val_accuracy', factor=0.1, patience=5, verbose=2,\n",
        "    mode='max', min_delta=1e-5, cooldown=0, min_lr=0\n",
        ")\n",
        "\n",
        "callbacks = [es, lr]"
      ]
    },
    {
      "cell_type": "code",
      "execution_count": null,
      "metadata": {
        "colab": {
          "base_uri": "https://localhost:8080/"
        },
        "id": "wjXA9eXxYrGQ",
        "outputId": "19f5262a-5b44-49d1-cdc3-0162002e6a2f"
      },
      "outputs": [
        {
          "name": "stdout",
          "output_type": "stream",
          "text": [
            "Model: \"sequential\"\n",
            "_________________________________________________________________\n",
            " Layer (type)                Output Shape              Param #   \n",
            "=================================================================\n",
            " conv2d (Conv2D)             (None, 48, 48, 7)         182       \n",
            "                                                                 \n",
            " max_pooling2d (MaxPooling2D  (None, 24, 24, 7)        0         \n",
            " )                                                               \n",
            "                                                                 \n",
            " conv2d_1 (Conv2D)           (None, 24, 24, 16)        2816      \n",
            "                                                                 \n",
            " max_pooling2d_1 (MaxPooling  (None, 12, 12, 16)       0         \n",
            " 2D)                                                             \n",
            "                                                                 \n",
            " dropout (Dropout)           (None, 12, 12, 16)        0         \n",
            "                                                                 \n",
            " conv2d_2 (Conv2D)           (None, 10, 10, 64)        9280      \n",
            "                                                                 \n",
            " max_pooling2d_2 (MaxPooling  (None, 5, 5, 64)         0         \n",
            " 2D)                                                             \n",
            "                                                                 \n",
            " dropout_1 (Dropout)         (None, 5, 5, 64)          0         \n",
            "                                                                 \n",
            " flatten (Flatten)           (None, 1600)              0         \n",
            "                                                                 \n",
            " dense (Dense)               (None, 128)               204928    \n",
            "                                                                 \n",
            " dense_1 (Dense)             (None, 7)                 903       \n",
            "                                                                 \n",
            "=================================================================\n",
            "Total params: 218,109\n",
            "Trainable params: 218,109\n",
            "Non-trainable params: 0\n",
            "_________________________________________________________________\n"
          ]
        }
      ],
      "source": [
        "Model = create_model()\n",
        "Model.summary()"
      ]
    },
    {
      "cell_type": "code",
      "execution_count": null,
      "metadata": {
        "colab": {
          "base_uri": "https://localhost:8080/",
          "height": 1000
        },
        "id": "9uAIFr-qY6_q",
        "outputId": "8c1841d5-4550-46d3-bf05-58c26d73a0e1"
      },
      "outputs": [
        {
          "data": {
            "image/png": "[encoded data removed]",
            "text/plain": [
              "<IPython.core.display.Image object>"
            ]
          },
          "execution_count": 23,
          "metadata": {},
          "output_type": "execute_result"
        }
      ],
      "source": [
        "from tensorflow.keras.utils import plot_model\n",
        "plot_model(Model, to_file='model.png')"
      ]
    },
    {
      "cell_type": "markdown",
      "metadata": {
        "id": "b6EwWJmXbEnk"
      },
      "source": [
        "## **Training Model**"
      ]
    },
    {
      "cell_type": "code",
      "execution_count": null,
      "metadata": {
        "id": "Lgy6OANEbJVy"
      },
      "outputs": [],
      "source": [
        "WFE_model = create_model()\n",
        "WFE_model.compile(loss='categorical_crossentropy', metrics=['accuracy'], optimizer='adam' )"
      ]
    },
    {
      "cell_type": "code",
      "execution_count": null,
      "metadata": {
        "colab": {
          "base_uri": "https://localhost:8080/"
        },
        "id": "U3neKK_GbPZ_",
        "outputId": "8912cbaf-4c4f-4183-8e63-4ee4fba82d90"
      },
      "outputs": [
        {
          "name": "stdout",
          "output_type": "stream",
          "text": [
            "Epoch 1/20\n",
            "98/98 [==============================] - 4s 34ms/step - loss: 1.8336 - accuracy: 0.2691 - val_loss: 1.7088 - val_accuracy: 0.4822 - lr: 0.0010\n",
            "Epoch 2/20\n",
            "98/98 [==============================] - 3s 32ms/step - loss: 1.3658 - accuracy: 0.5230 - val_loss: 0.8904 - val_accuracy: 0.6599 - lr: 0.0010\n",
            "Epoch 3/20\n",
            "98/98 [==============================] - 3s 32ms/step - loss: 0.9325 - accuracy: 0.6454 - val_loss: 0.7687 - val_accuracy: 0.7056 - lr: 0.0010\n",
            "Epoch 4/20\n",
            "98/98 [==============================] - 3s 32ms/step - loss: 0.7378 - accuracy: 0.7219 - val_loss: 0.5086 - val_accuracy: 0.8020 - lr: 0.0010\n",
            "Epoch 5/20\n",
            "98/98 [==============================] - 3s 32ms/step - loss: 0.5729 - accuracy: 0.7946 - val_loss: 0.3819 - val_accuracy: 0.8680 - lr: 0.0010\n",
            "Epoch 6/20\n",
            "98/98 [==============================] - 3s 32ms/step - loss: 0.4978 - accuracy: 0.8253 - val_loss: 0.3504 - val_accuracy: 0.8883 - lr: 0.0010\n",
            "Epoch 7/20\n",
            "98/98 [==============================] - 3s 32ms/step - loss: 0.4760 - accuracy: 0.8202 - val_loss: 0.3300 - val_accuracy: 0.9036 - lr: 0.0010\n",
            "Epoch 8/20\n",
            "98/98 [==============================] - 3s 32ms/step - loss: 0.4114 - accuracy: 0.8546 - val_loss: 0.2718 - val_accuracy: 0.9289 - lr: 0.0010\n",
            "Epoch 9/20\n",
            "98/98 [==============================] - 3s 32ms/step - loss: 0.3506 - accuracy: 0.8737 - val_loss: 0.2688 - val_accuracy: 0.9137 - lr: 0.0010\n",
            "Epoch 10/20\n",
            "98/98 [==============================] - 3s 33ms/step - loss: 0.3230 - accuracy: 0.8852 - val_loss: 0.2482 - val_accuracy: 0.9340 - lr: 0.0010\n",
            "Epoch 11/20\n",
            "98/98 [==============================] - 3s 32ms/step - loss: 0.2836 - accuracy: 0.8980 - val_loss: 0.2018 - val_accuracy: 0.9543 - lr: 0.0010\n",
            "Epoch 12/20\n",
            "98/98 [==============================] - 3s 33ms/step - loss: 0.2493 - accuracy: 0.9069 - val_loss: 0.1274 - val_accuracy: 0.9492 - lr: 0.0010\n",
            "Epoch 13/20\n",
            "98/98 [==============================] - 3s 34ms/step - loss: 0.2527 - accuracy: 0.9145 - val_loss: 0.1654 - val_accuracy: 0.9543 - lr: 0.0010\n",
            "Epoch 14/20\n",
            "98/98 [==============================] - 3s 34ms/step - loss: 0.2323 - accuracy: 0.9082 - val_loss: 0.2113 - val_accuracy: 0.9188 - lr: 0.0010\n",
            "Epoch 15/20\n",
            "98/98 [==============================] - 3s 33ms/step - loss: 0.2198 - accuracy: 0.9171 - val_loss: 0.1339 - val_accuracy: 0.9543 - lr: 0.0010\n",
            "Epoch 16/20\n",
            "98/98 [==============================] - ETA: 0s - loss: 0.2207 - accuracy: 0.9171\n",
            "Epoch 16: ReduceLROnPlateau reducing learning rate to 0.00010000000474974513.\n",
            "98/98 [==============================] - 3s 33ms/step - loss: 0.2207 - accuracy: 0.9171 - val_loss: 0.1346 - val_accuracy: 0.9492 - lr: 0.0010\n",
            "Epoch 17/20\n",
            "98/98 [==============================] - 3s 33ms/step - loss: 0.1411 - accuracy: 0.9503 - val_loss: 0.1093 - val_accuracy: 0.9695 - lr: 1.0000e-04\n",
            "Epoch 18/20\n",
            "98/98 [==============================] - 3s 32ms/step - loss: 0.1093 - accuracy: 0.9643 - val_loss: 0.1036 - val_accuracy: 0.9645 - lr: 1.0000e-04\n",
            "Epoch 19/20\n",
            "98/98 [==============================] - 3s 33ms/step - loss: 0.1245 - accuracy: 0.9579 - val_loss: 0.1066 - val_accuracy: 0.9695 - lr: 1.0000e-04\n",
            "Epoch 20/20\n",
            "98/98 [==============================] - 3s 33ms/step - loss: 0.1372 - accuracy: 0.9490 - val_loss: 0.1020 - val_accuracy: 0.9746 - lr: 1.0000e-04\n"
          ]
        }
      ],
      "source": [
        "WFE_history = WFE_model.fit(X_train, y_train, batch_size=8 , epochs=20, validation_data = (X_test, y_test) ,callbacks = [callbacks])"
      ]
    },
    {
      "cell_type": "code",
      "execution_count": null,
      "metadata": {
        "id": "06xKcKDHdAr3"
      },
      "outputs": [],
      "source": [
        "def plot_performance(history):\n",
        "    plt.figure(figsize=(12, 8))\n",
        "\n",
        "    plt.subplot(2, 1, 1)\n",
        "    plt.plot(history.history['loss'], label='train')\n",
        "    plt.plot(history.history['val_loss'], label='val')\n",
        "\n",
        "    plt.legend()\n",
        "    plt.grid()\n",
        "    plt.title('train and val loss evolution')\n",
        "\n",
        "    plt.subplot(2, 1, 2)\n",
        "    plt.plot(history.history['accuracy'], label='train')\n",
        "    plt.plot(history.history['val_accuracy'], label='val')\n",
        "\n",
        "    plt.legend()\n",
        "    plt.grid()\n",
        "    plt.title('train and val accuracy')"
      ]
    },
    {
      "cell_type": "code",
      "execution_count": null,
      "metadata": {
        "colab": {
          "base_uri": "https://localhost:8080/",
          "height": 499
        },
        "id": "5ur1nh84bUmo",
        "outputId": "05d54ff6-59cc-4f77-d0a6-5bd1c6566183"
      },
      "outputs": [
        {
          "data": {
            "image/png": "[encoded data removed]",
            "text/plain": [
              "<Figure size 864x576 with 2 Axes>"
            ]
          },
          "metadata": {
            "needs_background": "light"
          },
          "output_type": "display_data"
        }
      ],
      "source": [
        "plot_performance(WFE_history)"
      ]
    },
    {
      "cell_type": "code",
      "execution_count": null,
      "metadata": {
        "id": "n30ZFXlk3iDZ"
      },
      "outputs": [],
      "source": [
        "acc = []"
      ]
    },
    {
      "cell_type": "code",
      "execution_count": null,
      "metadata": {
        "colab": {
          "base_uri": "https://localhost:8080/"
        },
        "id": "cUnvuH1R3iDZ",
        "outputId": "91ddc68f-a3ca-4438-8a51-8b1d08142368"
      },
      "outputs": [
        {
          "name": "stdout",
          "output_type": "stream",
          "text": [
            "Without Feature extraction Accuracy : 0.9746192693710327\n"
          ]
        }
      ],
      "source": [
        "WFE_acc = WFE_model.evaluate(X_test, y_test, verbose = 0)[1]\n",
        "acc.append(WFE_acc)\n",
        "print(\"Without Feature extraction Accuracy :\", WFE_acc)"
      ]
    },
    {
      "cell_type": "code",
      "execution_count": null,
      "metadata": {
        "colab": {
          "base_uri": "https://localhost:8080/"
        },
        "id": "RjEBRu9cJEd-",
        "outputId": "9c34a1c0-6170-4757-e353-ec4342b94645"
      },
      "outputs": [
        {
          "name": "stdout",
          "output_type": "stream",
          "text": [
            "7/7 [==============================] - 0s 26ms/step\n"
          ]
        }
      ],
      "source": [
        "predict_x=WFE_model.predict(X_test)"
      ]
    },
    {
      "cell_type": "code",
      "execution_count": null,
      "metadata": {
        "colab": {
          "base_uri": "https://localhost:8080/"
        },
        "id": "RvuhiyPySoQk",
        "outputId": "faf9761a-5357-4e76-c8ec-eddbdb1bfe90"
      },
      "outputs": [
        {
          "data": {
            "text/plain": [
              "3"
            ]
          },
          "execution_count": 31,
          "metadata": {},
          "output_type": "execute_result"
        }
      ],
      "source": [
        "rounded_X_test=np.argmax(predict_x, axis=1)\n",
        "rounded_X_test[1]"
      ]
    },
    {
      "cell_type": "code",
      "execution_count": null,
      "metadata": {
        "colab": {
          "base_uri": "https://localhost:8080/"
        },
        "id": "EKWpYHCXSCYS",
        "outputId": "61422e79-e1ae-4366-a351-3fc16bb3edb0"
      },
      "outputs": [
        {
          "data": {
            "text/plain": [
              "3"
            ]
          },
          "execution_count": 32,
          "metadata": {},
          "output_type": "execute_result"
        }
      ],
      "source": [
        "rounded_y_test=np.argmax(y_test, axis=1)\n",
        "rounded_y_test[1]"
      ]
    },
    {
      "cell_type": "code",
      "execution_count": null,
      "metadata": {
        "colab": {
          "base_uri": "https://localhost:8080/"
        },
        "id": "lR6GFu2Oz-nJ",
        "outputId": "fccce3c0-2d93-4981-8508-d75341ce8923"
      },
      "outputs": [
        {
          "name": "stdout",
          "output_type": "stream",
          "text": [
            "              precision    recall  f1-score   support\n",
            "\n",
            "           0       1.00      0.94      0.97        17\n",
            "           1       0.73      1.00      0.84         8\n",
            "           2       1.00      1.00      1.00        36\n",
            "           3       1.00      0.98      0.99        54\n",
            "           4       1.00      1.00      1.00        44\n",
            "           5       0.92      0.80      0.86        15\n",
            "           6       0.96      1.00      0.98        23\n",
            "\n",
            "    accuracy                           0.97       197\n",
            "   macro avg       0.94      0.96      0.95       197\n",
            "weighted avg       0.98      0.97      0.98       197\n",
            "\n"
          ]
        }
      ],
      "source": [
        "from sklearn.metrics import classification_report\n",
        "\n",
        "report = classification_report(rounded_y_test,rounded_X_test)\n",
        "print(report)"
      ]
    },
    {
      "cell_type": "code",
      "execution_count": null,
      "metadata": {
        "id": "ew7TbzB83iDZ"
      },
      "outputs": [],
      "source": [
        "WFE_model.save('WFE_model_2.h5')"
      ]
    },
    {
      "cell_type": "markdown",
      "metadata": {
        "id": "T9gWgXPH3iDZ"
      },
      "source": [
        "# Training Model Using LBP Feature Extraction Technique"
      ]
    },
    {
      "cell_type": "code",
      "execution_count": null,
      "metadata": {
        "id": "YDnqkV1F3iDZ"
      },
      "outputs": [],
      "source": [
        "def Binarypattern(im):                               # creating function to get local binary pattern\n",
        "    img= np.zeros_like(im)\n",
        "    n=3  \n",
        "    print(im.shape[0])# taking kernel of size 3*3\n",
        "    for i in range(0,im.shape[0]-n):                 # for image height\n",
        "        for j in range(0,im.shape[1]-n):               # for image width\n",
        "            x  = im[i:i+n,j:j+n]                     # reading the entire image in 3*3 format\n",
        "            center       = x[1,1]                    # taking the center value for 3*3 kernel\n",
        "            img1        = (x >= center)*1.0          # checking if neighbouring values of center value is greater or less than center value\n",
        "            img1_vector = img1.T.flatten()           # getting the image pixel values \n",
        "            img1_vector = np.delete(img1_vector,4)  \n",
        "            digit = np.where(img1_vector)[0]         \n",
        "            if len(digit) >= 1:                     # converting the neighbouring pixels according to center pixel value\n",
        "                num = np.sum(2**digit)              # if n> center assign 1 and if n<center assign 0\n",
        "            else:                                    # if 1 then multiply by 2^digit and if 0 then making value 0 and aggregating all the values\n",
        "                                                    #of kernel to get new center value\n",
        "                num = 0\n",
        "            img[i+1,j+1] = num\n",
        "    return(img)"
      ]
    },
    {
      "cell_type": "code",
      "execution_count": null,
      "metadata": {
        "colab": {
          "base_uri": "https://localhost:8080/"
        },
        "id": "I0NGAyOE3iDa",
        "outputId": "82ca6ed4-9e5a-475e-cc92-6c3007b7799d"
      },
      "outputs": [
        {
          "data": {
            "text/plain": [
              "(784, 48, 48, 1)"
            ]
          },
          "execution_count": 36,
          "metadata": {},
          "output_type": "execute_result"
        }
      ],
      "source": [
        "X_train.shape"
      ]
    },
    {
      "cell_type": "code",
      "execution_count": null,
      "metadata": {
        "id": "w1YDZvOC3iDa"
      },
      "outputs": [],
      "source": [
        "def create_LBP_features(data):\n",
        "    Feature_data = np.zeros(data.shape)\n",
        "\n",
        "    for i in range(len(data)):\n",
        "        img = data[i]\n",
        "        imgLBP=Binarypattern(img)  \n",
        "        Feature_data[i] = imgLBP\n",
        "    \n",
        "    return Feature_data"
      ]
    },
    {
      "cell_type": "code",
      "execution_count": null,
      "metadata": {
        "colab": {
          "base_uri": "https://localhost:8080/"
        },
        "id": "a0qSBp5f3iDa",
        "outputId": "c9e60981-bbeb-423d-8399-e4c47b892e6d"
      },
      "outputs": [
        {
          "name": "stdout",
          "output_type": "stream",
          "text": [
            "48\n",
            "48\n",
            "48\n",
            "48\n",
            "48\n",
            "48\n",
            "48\n",
            "48\n",
            "48\n",
            "48\n",
            "48\n",
            "48\n",
            "48\n",
            "48\n",
            "48\n",
            "48\n",
            "48\n",
            "48\n",
            "48\n",
            "48\n",
            "48\n",
            "48\n",
            "48\n",
            "48\n",
            "48\n",
            "48\n",
            "48\n",
            "48\n",
            "48\n",
            "48\n",
            "48\n",
            "48\n",
            "48\n",
            "48\n",
            "48\n",
            "48\n",
            "48\n",
            "48\n",
            "48\n",
            "48\n",
            "48\n",
            "48\n",
            "48\n",
            "48\n",
            "48\n",
            "48\n",
            "48\n",
            "48\n",
            "48\n",
            "48\n",
            "48\n",
            "48\n",
            "48\n",
            "48\n",
            "48\n",
            "48\n",
            "48\n",
            "48\n",
            "48\n",
            "48\n",
            "48\n",
            "48\n",
            "48\n",
            "48\n",
            "48\n",
            "48\n",
            "48\n",
            "48\n",
            "48\n",
            "48\n",
            "48\n",
            "48\n",
            "48\n",
            "48\n",
            "48\n",
            "48\n",
            "48\n",
            "48\n",
            "48\n",
            "48\n",
            "48\n",
            "48\n",
            "48\n",
            "48\n",
            "48\n",
            "48\n",
            "48\n",
            "48\n",
            "48\n",
            "48\n",
            "48\n",
            "48\n",
            "48\n",
            "48\n",
            "48\n",
            "48\n",
            "48\n",
            "48\n",
            "48\n",
            "48\n",
            "48\n",
            "48\n",
            "48\n",
            "48\n",
            "48\n",
            "48\n",
            "48\n",
            "48\n",
            "48\n",
            "48\n",
            "48\n",
            "48\n",
            "48\n",
            "48\n",
            "48\n",
            "48\n",
            "48\n",
            "48\n",
            "48\n",
            "48\n",
            "48\n",
            "48\n",
            "48\n",
            "48\n",
            "48\n",
            "48\n",
            "48\n",
            "48\n",
            "48\n",
            "48\n",
            "48\n",
            "48\n",
            "48\n",
            "48\n",
            "48\n",
            "48\n",
            "48\n",
            "48\n",
            "48\n",
            "48\n",
            "48\n",
            "48\n",
            "48\n",
            "48\n",
            "48\n",
            "48\n",
            "48\n",
            "48\n",
            "48\n",
            "48\n",
            "48\n",
            "48\n",
            "48\n",
            "48\n",
            "48\n",
            "48\n",
            "48\n",
            "48\n",
            "48\n",
            "48\n",
            "48\n",
            "48\n",
            "48\n",
            "48\n",
            "48\n",
            "48\n",
            "48\n",
            "48\n",
            "48\n",
            "48\n",
            "48\n",
            "48\n",
            "48\n",
            "48\n",
            "48\n",
            "48\n",
            "48\n",
            "48\n",
            "48\n",
            "48\n",
            "48\n",
            "48\n",
            "48\n",
            "48\n",
            "48\n",
            "48\n",
            "48\n",
            "48\n",
            "48\n",
            "48\n",
            "48\n",
            "48\n",
            "48\n",
            "48\n",
            "48\n",
            "48\n",
            "48\n",
            "48\n",
            "48\n",
            "48\n",
            "48\n",
            "48\n",
            "48\n",
            "48\n",
            "48\n",
            "48\n",
            "48\n",
            "48\n",
            "48\n",
            "48\n",
            "48\n",
            "48\n",
            "48\n",
            "48\n",
            "48\n",
            "48\n",
            "48\n",
            "48\n",
            "48\n",
            "48\n",
            "48\n",
            "48\n",
            "48\n",
            "48\n",
            "48\n",
            "48\n",
            "48\n",
            "48\n",
            "48\n",
            "48\n",
            "48\n",
            "48\n",
            "48\n",
            "48\n",
            "48\n",
            "48\n",
            "48\n",
            "48\n",
            "48\n",
            "48\n",
            "48\n",
            "48\n",
            "48\n",
            "48\n",
            "48\n",
            "48\n",
            "48\n",
            "48\n",
            "48\n",
            "48\n",
            "48\n",
            "48\n",
            "48\n",
            "48\n",
            "48\n",
            "48\n",
            "48\n",
            "48\n",
            "48\n",
            "48\n",
            "48\n",
            "48\n",
            "48\n",
            "48\n",
            "48\n",
            "48\n",
            "48\n",
            "48\n",
            "48\n",
            "48\n",
            "48\n",
            "48\n",
            "48\n",
            "48\n",
            "48\n",
            "48\n",
            "48\n",
            "48\n",
            "48\n",
            "48\n",
            "48\n",
            "48\n",
            "48\n",
            "48\n",
            "48\n",
            "48\n",
            "48\n",
            "48\n",
            "48\n",
            "48\n",
            "48\n",
            "48\n",
            "48\n",
            "48\n",
            "48\n",
            "48\n",
            "48\n",
            "48\n",
            "48\n",
            "48\n",
            "48\n",
            "48\n",
            "48\n",
            "48\n",
            "48\n",
            "48\n",
            "48\n",
            "48\n",
            "48\n",
            "48\n",
            "48\n",
            "48\n",
            "48\n",
            "48\n",
            "48\n",
            "48\n",
            "48\n",
            "48\n",
            "48\n",
            "48\n",
            "48\n",
            "48\n",
            "48\n",
            "48\n",
            "48\n",
            "48\n",
            "48\n",
            "48\n",
            "48\n",
            "48\n",
            "48\n",
            "48\n",
            "48\n",
            "48\n",
            "48\n",
            "48\n",
            "48\n",
            "48\n",
            "48\n",
            "48\n",
            "48\n",
            "48\n",
            "48\n",
            "48\n",
            "48\n",
            "48\n",
            "48\n",
            "48\n",
            "48\n",
            "48\n",
            "48\n",
            "48\n",
            "48\n",
            "48\n",
            "48\n",
            "48\n",
            "48\n",
            "48\n",
            "48\n",
            "48\n",
            "48\n",
            "48\n",
            "48\n",
            "48\n",
            "48\n",
            "48\n",
            "48\n",
            "48\n",
            "48\n",
            "48\n",
            "48\n",
            "48\n",
            "48\n",
            "48\n",
            "48\n",
            "48\n",
            "48\n",
            "48\n",
            "48\n",
            "48\n",
            "48\n",
            "48\n",
            "48\n",
            "48\n",
            "48\n",
            "48\n",
            "48\n",
            "48\n",
            "48\n",
            "48\n",
            "48\n",
            "48\n",
            "48\n",
            "48\n",
            "48\n",
            "48\n",
            "48\n",
            "48\n",
            "48\n",
            "48\n",
            "48\n",
            "48\n",
            "48\n",
            "48\n",
            "48\n",
            "48\n",
            "48\n",
            "48\n",
            "48\n",
            "48\n",
            "48\n",
            "48\n",
            "48\n",
            "48\n",
            "48\n",
            "48\n",
            "48\n",
            "48\n",
            "48\n",
            "48\n",
            "48\n",
            "48\n",
            "48\n",
            "48\n",
            "48\n",
            "48\n",
            "48\n",
            "48\n",
            "48\n",
            "48\n",
            "48\n",
            "48\n",
            "48\n",
            "48\n",
            "48\n",
            "48\n",
            "48\n",
            "48\n",
            "48\n",
            "48\n",
            "48\n",
            "48\n",
            "48\n",
            "48\n",
            "48\n",
            "48\n",
            "48\n",
            "48\n",
            "48\n",
            "48\n",
            "48\n",
            "48\n",
            "48\n",
            "48\n",
            "48\n",
            "48\n",
            "48\n",
            "48\n",
            "48\n",
            "48\n",
            "48\n",
            "48\n",
            "48\n",
            "48\n",
            "48\n",
            "48\n",
            "48\n",
            "48\n",
            "48\n",
            "48\n",
            "48\n",
            "48\n",
            "48\n",
            "48\n",
            "48\n",
            "48\n",
            "48\n",
            "48\n",
            "48\n",
            "48\n",
            "48\n",
            "48\n",
            "48\n",
            "48\n",
            "48\n",
            "48\n",
            "48\n",
            "48\n",
            "48\n",
            "48\n",
            "48\n",
            "48\n",
            "48\n",
            "48\n",
            "48\n",
            "48\n",
            "48\n",
            "48\n",
            "48\n",
            "48\n",
            "48\n",
            "48\n",
            "48\n",
            "48\n",
            "48\n",
            "48\n",
            "48\n",
            "48\n",
            "48\n",
            "48\n",
            "48\n",
            "48\n",
            "48\n",
            "48\n",
            "48\n",
            "48\n",
            "48\n",
            "48\n",
            "48\n",
            "48\n",
            "48\n",
            "48\n",
            "48\n",
            "48\n",
            "48\n",
            "48\n",
            "48\n",
            "48\n",
            "48\n",
            "48\n",
            "48\n",
            "48\n",
            "48\n",
            "48\n",
            "48\n",
            "48\n",
            "48\n",
            "48\n",
            "48\n",
            "48\n",
            "48\n",
            "48\n",
            "48\n",
            "48\n",
            "48\n",
            "48\n",
            "48\n",
            "48\n",
            "48\n",
            "48\n",
            "48\n",
            "48\n",
            "48\n",
            "48\n",
            "48\n",
            "48\n",
            "48\n",
            "48\n",
            "48\n",
            "48\n",
            "48\n",
            "48\n",
            "48\n",
            "48\n",
            "48\n",
            "48\n",
            "48\n",
            "48\n",
            "48\n",
            "48\n",
            "48\n",
            "48\n",
            "48\n",
            "48\n",
            "48\n",
            "48\n",
            "48\n",
            "48\n",
            "48\n",
            "48\n",
            "48\n",
            "48\n",
            "48\n",
            "48\n",
            "48\n",
            "48\n",
            "48\n",
            "48\n",
            "48\n",
            "48\n",
            "48\n",
            "48\n",
            "48\n",
            "48\n",
            "48\n",
            "48\n",
            "48\n",
            "48\n",
            "48\n",
            "48\n",
            "48\n",
            "48\n",
            "48\n",
            "48\n",
            "48\n",
            "48\n",
            "48\n",
            "48\n",
            "48\n",
            "48\n",
            "48\n",
            "48\n",
            "48\n",
            "48\n",
            "48\n",
            "48\n",
            "48\n",
            "48\n",
            "48\n",
            "48\n",
            "48\n",
            "48\n",
            "48\n",
            "48\n",
            "48\n",
            "48\n",
            "48\n",
            "48\n",
            "48\n",
            "48\n",
            "48\n",
            "48\n",
            "48\n",
            "48\n",
            "48\n",
            "48\n",
            "48\n",
            "48\n",
            "48\n",
            "48\n",
            "48\n",
            "48\n",
            "48\n",
            "48\n",
            "48\n",
            "48\n",
            "48\n",
            "48\n",
            "48\n",
            "48\n",
            "48\n",
            "48\n",
            "48\n",
            "48\n",
            "48\n",
            "48\n",
            "48\n",
            "48\n",
            "48\n",
            "48\n",
            "48\n",
            "48\n",
            "48\n",
            "48\n",
            "48\n",
            "48\n",
            "48\n",
            "48\n",
            "48\n",
            "48\n",
            "48\n",
            "48\n",
            "48\n",
            "48\n",
            "48\n",
            "48\n",
            "48\n",
            "48\n",
            "48\n",
            "48\n",
            "48\n",
            "48\n",
            "48\n",
            "48\n",
            "48\n",
            "48\n",
            "48\n",
            "48\n",
            "48\n",
            "48\n",
            "48\n",
            "48\n",
            "48\n",
            "48\n",
            "48\n",
            "48\n",
            "48\n",
            "48\n",
            "48\n",
            "48\n",
            "48\n",
            "48\n",
            "48\n",
            "48\n",
            "48\n",
            "48\n",
            "48\n",
            "48\n",
            "48\n",
            "48\n",
            "48\n",
            "48\n",
            "48\n",
            "48\n",
            "48\n",
            "48\n",
            "48\n",
            "48\n",
            "48\n",
            "48\n",
            "48\n",
            "48\n",
            "48\n",
            "48\n",
            "48\n",
            "48\n",
            "48\n",
            "48\n",
            "48\n",
            "48\n",
            "48\n",
            "48\n",
            "48\n",
            "48\n",
            "48\n",
            "48\n",
            "48\n",
            "48\n",
            "48\n",
            "48\n",
            "48\n",
            "48\n",
            "48\n",
            "48\n",
            "48\n",
            "48\n",
            "48\n",
            "48\n",
            "48\n",
            "48\n",
            "48\n",
            "48\n",
            "48\n",
            "48\n",
            "48\n",
            "48\n",
            "48\n",
            "48\n",
            "48\n",
            "48\n",
            "48\n",
            "48\n",
            "48\n",
            "48\n",
            "48\n",
            "48\n",
            "48\n",
            "48\n",
            "48\n",
            "48\n",
            "48\n",
            "48\n",
            "48\n",
            "48\n",
            "48\n",
            "48\n",
            "48\n",
            "48\n",
            "48\n",
            "48\n",
            "48\n",
            "48\n",
            "48\n",
            "48\n"
          ]
        }
      ],
      "source": [
        "Feature_X_train = create_LBP_features(X_train)"
      ]
    },
    {
      "cell_type": "code",
      "execution_count": null,
      "metadata": {
        "colab": {
          "base_uri": "https://localhost:8080/"
        },
        "id": "O6FXZ6rT3iDa",
        "outputId": "2f101f23-00bd-4389-8446-70ee139120f6"
      },
      "outputs": [
        {
          "data": {
            "text/plain": [
              "(784, 48, 48, 1)"
            ]
          },
          "execution_count": 39,
          "metadata": {},
          "output_type": "execute_result"
        }
      ],
      "source": [
        "Feature_X_train.shape"
      ]
    },
    {
      "cell_type": "code",
      "execution_count": null,
      "metadata": {
        "colab": {
          "base_uri": "https://localhost:8080/"
        },
        "id": "hX0tYr-o3iDb",
        "outputId": "0417fd2b-4f8e-4b7e-b34e-85e557d63880"
      },
      "outputs": [
        {
          "name": "stdout",
          "output_type": "stream",
          "text": [
            "48\n",
            "48\n",
            "48\n",
            "48\n",
            "48\n",
            "48\n",
            "48\n",
            "48\n",
            "48\n",
            "48\n",
            "48\n",
            "48\n",
            "48\n",
            "48\n",
            "48\n",
            "48\n",
            "48\n",
            "48\n",
            "48\n",
            "48\n",
            "48\n",
            "48\n",
            "48\n",
            "48\n",
            "48\n",
            "48\n",
            "48\n",
            "48\n",
            "48\n",
            "48\n",
            "48\n",
            "48\n",
            "48\n",
            "48\n",
            "48\n",
            "48\n",
            "48\n",
            "48\n",
            "48\n",
            "48\n",
            "48\n",
            "48\n",
            "48\n",
            "48\n",
            "48\n",
            "48\n",
            "48\n",
            "48\n",
            "48\n",
            "48\n",
            "48\n",
            "48\n",
            "48\n",
            "48\n",
            "48\n",
            "48\n",
            "48\n",
            "48\n",
            "48\n",
            "48\n",
            "48\n",
            "48\n",
            "48\n",
            "48\n",
            "48\n",
            "48\n",
            "48\n",
            "48\n",
            "48\n",
            "48\n",
            "48\n",
            "48\n",
            "48\n",
            "48\n",
            "48\n",
            "48\n",
            "48\n",
            "48\n",
            "48\n",
            "48\n",
            "48\n",
            "48\n",
            "48\n",
            "48\n",
            "48\n",
            "48\n",
            "48\n",
            "48\n",
            "48\n",
            "48\n",
            "48\n",
            "48\n",
            "48\n",
            "48\n",
            "48\n",
            "48\n",
            "48\n",
            "48\n",
            "48\n",
            "48\n",
            "48\n",
            "48\n",
            "48\n",
            "48\n",
            "48\n",
            "48\n",
            "48\n",
            "48\n",
            "48\n",
            "48\n",
            "48\n",
            "48\n",
            "48\n",
            "48\n",
            "48\n",
            "48\n",
            "48\n",
            "48\n",
            "48\n",
            "48\n",
            "48\n",
            "48\n",
            "48\n",
            "48\n",
            "48\n",
            "48\n",
            "48\n",
            "48\n",
            "48\n",
            "48\n",
            "48\n",
            "48\n",
            "48\n",
            "48\n",
            "48\n",
            "48\n",
            "48\n",
            "48\n",
            "48\n",
            "48\n",
            "48\n",
            "48\n",
            "48\n",
            "48\n",
            "48\n",
            "48\n",
            "48\n",
            "48\n",
            "48\n",
            "48\n",
            "48\n",
            "48\n",
            "48\n",
            "48\n",
            "48\n",
            "48\n",
            "48\n",
            "48\n",
            "48\n",
            "48\n",
            "48\n",
            "48\n",
            "48\n",
            "48\n",
            "48\n",
            "48\n",
            "48\n",
            "48\n",
            "48\n",
            "48\n",
            "48\n",
            "48\n",
            "48\n",
            "48\n",
            "48\n",
            "48\n",
            "48\n",
            "48\n",
            "48\n",
            "48\n",
            "48\n",
            "48\n",
            "48\n",
            "48\n",
            "48\n",
            "48\n",
            "48\n",
            "48\n",
            "48\n",
            "48\n",
            "48\n",
            "48\n",
            "48\n",
            "48\n",
            "48\n",
            "48\n",
            "48\n"
          ]
        }
      ],
      "source": [
        "Feature_X_test = create_LBP_features(X_test)\n"
      ]
    },
    {
      "cell_type": "code",
      "execution_count": null,
      "metadata": {
        "id": "xl3wu3qU3iDb"
      },
      "outputs": [],
      "source": [
        "# Training And Testing LBP-CNN model"
      ]
    },
    {
      "cell_type": "code",
      "execution_count": null,
      "metadata": {
        "colab": {
          "base_uri": "https://localhost:8080/",
          "height": 70
        },
        "id": "s0Gm04rm3iDb",
        "outputId": "89c440c0-2614-475f-866c-07f6afa665c0"
      },
      "outputs": [
        {
          "data": {
            "application/vnd.google.colaboratory.intrinsic+json": {
              "type": "string"
            },
            "text/plain": [
              "\"def create_model(input_shape=None):\\n    if input_shape is None :\\n        input_shape=(48,48,1)\\n\\n    model_LBP = Sequential()\\n\\n    model_LBP.add(Flatten())\\n    \\n    model_LBP.add(Dense(128, activation = 'relu'))\\n    \\n    \\n    model_LBP.add(Dense(7, activation = 'softmax'))\\n    \\n    return model_LBP \\n\\n    LBP_model = create_model_LBP()\\n    LBP_model.compile(loss='categorical_crossentropy', metrics=['accuracy'], optimizer='adam' )\""
            ]
          },
          "execution_count": 41,
          "metadata": {},
          "output_type": "execute_result"
        }
      ],
      "source": [
        "LBP_model = create_model()\n",
        "LBP_model.compile(loss='categorical_crossentropy', metrics=['accuracy'], optimizer='adam' )\n",
        "\n",
        "\n",
        "'''def create_model(input_shape=None):\n",
        "    if input_shape is None :\n",
        "        input_shape=(48,48,1)\n",
        "\n",
        "    model_LBP = Sequential()\n",
        "\n",
        "    model_LBP.add(Flatten())\n",
        "    \n",
        "    model_LBP.add(Dense(128, activation = 'relu'))\n",
        "    \n",
        "    \n",
        "    model_LBP.add(Dense(7, activation = 'softmax'))\n",
        "    \n",
        "    return model_LBP \n",
        "\n",
        "    LBP_model = create_model_LBP()\n",
        "    LBP_model.compile(loss='categorical_crossentropy', metrics=['accuracy'], optimizer='adam' )'''"
      ]
    },
    {
      "cell_type": "code",
      "execution_count": null,
      "metadata": {
        "colab": {
          "base_uri": "https://localhost:8080/"
        },
        "id": "AoBwMNfd3iDc",
        "outputId": "abe45421-3514-4e77-8163-dae25764ae8f"
      },
      "outputs": [
        {
          "name": "stdout",
          "output_type": "stream",
          "text": [
            "Epoch 1/20\n",
            "98/98 [==============================] - 4s 35ms/step - loss: 12.1278 - accuracy: 0.1760 - val_loss: 1.8143 - val_accuracy: 0.2640 - lr: 0.0010\n",
            "Epoch 2/20\n",
            "98/98 [==============================] - 3s 33ms/step - loss: 1.9133 - accuracy: 0.2513 - val_loss: 1.7427 - val_accuracy: 0.3299 - lr: 0.0010\n",
            "Epoch 3/20\n",
            "98/98 [==============================] - 3s 34ms/step - loss: 1.7787 - accuracy: 0.3176 - val_loss: 1.7483 - val_accuracy: 0.3249 - lr: 0.0010\n",
            "Epoch 4/20\n",
            "98/98 [==============================] - 3s 34ms/step - loss: 1.7098 - accuracy: 0.3571 - val_loss: 1.6464 - val_accuracy: 0.4670 - lr: 0.0010\n",
            "Epoch 5/20\n",
            "98/98 [==============================] - 3s 34ms/step - loss: 1.6368 - accuracy: 0.3737 - val_loss: 1.6108 - val_accuracy: 0.4213 - lr: 0.0010\n",
            "Epoch 6/20\n",
            "98/98 [==============================] - 3s 34ms/step - loss: 1.4386 - accuracy: 0.4630 - val_loss: 1.3408 - val_accuracy: 0.5533 - lr: 0.0010\n",
            "Epoch 7/20\n",
            "98/98 [==============================] - 3s 34ms/step - loss: 1.3768 - accuracy: 0.5051 - val_loss: 1.3239 - val_accuracy: 0.6091 - lr: 0.0010\n",
            "Epoch 8/20\n",
            "98/98 [==============================] - 3s 35ms/step - loss: 1.3070 - accuracy: 0.5230 - val_loss: 1.0886 - val_accuracy: 0.6853 - lr: 0.0010\n",
            "Epoch 9/20\n",
            "98/98 [==============================] - 4s 44ms/step - loss: 1.2292 - accuracy: 0.5638 - val_loss: 1.2908 - val_accuracy: 0.5990 - lr: 0.0010\n",
            "Epoch 10/20\n",
            "98/98 [==============================] - 7s 68ms/step - loss: 1.1415 - accuracy: 0.5714 - val_loss: 0.9910 - val_accuracy: 0.6904 - lr: 0.0010\n",
            "Epoch 11/20\n",
            "98/98 [==============================] - 7s 70ms/step - loss: 1.0104 - accuracy: 0.6301 - val_loss: 0.7766 - val_accuracy: 0.7411 - lr: 0.0010\n",
            "Epoch 12/20\n",
            "98/98 [==============================] - 5s 49ms/step - loss: 0.9676 - accuracy: 0.6467 - val_loss: 0.9398 - val_accuracy: 0.6954 - lr: 0.0010\n",
            "Epoch 13/20\n",
            "98/98 [==============================] - 3s 34ms/step - loss: 0.8883 - accuracy: 0.6696 - val_loss: 0.8358 - val_accuracy: 0.7056 - lr: 0.0010\n",
            "Epoch 14/20\n",
            "98/98 [==============================] - 3s 34ms/step - loss: 0.7443 - accuracy: 0.7066 - val_loss: 0.6550 - val_accuracy: 0.8376 - lr: 0.0010\n",
            "Epoch 15/20\n",
            "98/98 [==============================] - 3s 34ms/step - loss: 0.7372 - accuracy: 0.7232 - val_loss: 0.5959 - val_accuracy: 0.7614 - lr: 0.0010\n",
            "Epoch 16/20\n",
            "98/98 [==============================] - 3s 34ms/step - loss: 0.7312 - accuracy: 0.7309 - val_loss: 0.5906 - val_accuracy: 0.8071 - lr: 0.0010\n",
            "Epoch 17/20\n",
            "98/98 [==============================] - 3s 34ms/step - loss: 0.6347 - accuracy: 0.7564 - val_loss: 0.4619 - val_accuracy: 0.8579 - lr: 0.0010\n",
            "Epoch 18/20\n",
            "98/98 [==============================] - 3s 35ms/step - loss: 0.5584 - accuracy: 0.8048 - val_loss: 0.4579 - val_accuracy: 0.8731 - lr: 0.0010\n",
            "Epoch 19/20\n",
            "98/98 [==============================] - 3s 35ms/step - loss: 0.6398 - accuracy: 0.7730 - val_loss: 0.5454 - val_accuracy: 0.8325 - lr: 0.0010\n",
            "Epoch 20/20\n",
            "98/98 [==============================] - 3s 34ms/step - loss: 0.5733 - accuracy: 0.7934 - val_loss: 0.4654 - val_accuracy: 0.8782 - lr: 0.0010\n"
          ]
        }
      ],
      "source": [
        "LBP_history = LBP_model.fit(Feature_X_train, y_train, batch_size=8 , epochs=20, validation_data = (Feature_X_test, y_test) ,callbacks = [callbacks])"
      ]
    },
    {
      "cell_type": "code",
      "execution_count": null,
      "metadata": {
        "colab": {
          "base_uri": "https://localhost:8080/",
          "height": 499
        },
        "id": "-tdUIAWf3iDc",
        "outputId": "14ca6060-a4dd-4dfb-bba0-8193281e94d8"
      },
      "outputs": [
        {
          "data": {
            "image/png": "[encoded data removed]",
            "text/plain": [
              "<Figure size 864x576 with 2 Axes>"
            ]
          },
          "metadata": {
            "needs_background": "light"
          },
          "output_type": "display_data"
        }
      ],
      "source": [
        "plot_performance(LBP_history)"
      ]
    },
    {
      "cell_type": "code",
      "execution_count": null,
      "metadata": {
        "colab": {
          "base_uri": "https://localhost:8080/"
        },
        "id": "8Y_VFn5i3iDc",
        "outputId": "8e6d60f8-8e18-4a7e-9137-f0bdeb3967a1"
      },
      "outputs": [
        {
          "name": "stdout",
          "output_type": "stream",
          "text": [
            "LBP Accuracy : 0.8781725764274597\n"
          ]
        }
      ],
      "source": [
        "LBP_acc = LBP_model.evaluate(Feature_X_test, y_test, verbose = 0)[1]\n",
        "acc.append(LBP_acc)\n",
        "print(\"LBP Accuracy :\",LBP_model.evaluate(Feature_X_test, y_test, verbose = 0)[1])"
      ]
    },
    {
      "cell_type": "code",
      "execution_count": null,
      "metadata": {
        "id": "npARzl3s3iDc"
      },
      "outputs": [],
      "source": [
        "LBP_model.save('LBP_model.h5')"
      ]
    },
    {
      "cell_type": "markdown",
      "metadata": {
        "id": "ZD7zBmTX3iDd"
      },
      "source": [
        "# Training Model Using HOG Feature Extraction Technique"
      ]
    },
    {
      "cell_type": "code",
      "execution_count": null,
      "metadata": {
        "id": "IHLF4WOC3iDd"
      },
      "outputs": [],
      "source": [
        "from skimage.transform import resize\n",
        "from skimage.feature import hog"
      ]
    },
    {
      "cell_type": "markdown",
      "metadata": {
        "id": "whv2LB5x3iDd"
      },
      "source": [
        "## How HOG looks"
      ]
    },
    {
      "cell_type": "markdown",
      "metadata": {
        "id": "2th5kR4p3iDd"
      },
      "source": [
        "## Creating Feature Vectors For training and testing"
      ]
    },
    {
      "cell_type": "code",
      "execution_count": null,
      "metadata": {
        "id": "n67wNDmy3iDe"
      },
      "outputs": [],
      "source": [
        "def Create_Hog_features(data):\n",
        "    Feature_data = np.zeros((len(data),48,48))\n",
        "\n",
        "    for i in range(len(data)):\n",
        "        img = data[i]\n",
        "        resized_img = resize(img, (128, 64))\n",
        "        fd, hog_image = hog(\n",
        "            resized_img, \n",
        "            orientations=9, \n",
        "            pixels_per_cell=(8, 8),\n",
        "            cells_per_block=(2, 2), \n",
        "            visualize=True, \n",
        "            multichannel=True\n",
        "        )\n",
        "        Feature_data[i] = resize(hog_image, (48, 48))\n",
        "    return Feature_data"
      ]
    },
    {
      "cell_type": "code",
      "execution_count": null,
      "metadata": {
        "colab": {
          "base_uri": "https://localhost:8080/"
        },
        "id": "DgIcsOui3iDe",
        "outputId": "aed40cb8-9e00-43b1-cd53-d35e0a5e20fd"
      },
      "outputs": [
        {
          "data": {
            "text/plain": [
              "(784, 48, 48)"
            ]
          },
          "execution_count": 49,
          "metadata": {},
          "output_type": "execute_result"
        }
      ],
      "source": [
        "Feature_X_train = Create_Hog_features(X_train)\n",
        "Feature_X_train.shape"
      ]
    },
    {
      "cell_type": "code",
      "execution_count": null,
      "metadata": {
        "colab": {
          "base_uri": "https://localhost:8080/",
          "height": 265
        },
        "id": "A79JBdI-3iDe",
        "outputId": "6381b043-b321-47e2-8597-84cfc2cbce69"
      },
      "outputs": [
        {
          "data": {
            "text/plain": [
              "(-0.5, 47.5, 47.5, -0.5)"
            ]
          },
          "execution_count": 50,
          "metadata": {},
          "output_type": "execute_result"
        },
        {
          "data": {
            "image/png": "[encoded data removed]",
            "text/plain": [
              "<Figure size 432x288 with 1 Axes>"
            ]
          },
          "metadata": {
            "needs_background": "light"
          },
          "output_type": "display_data"
        }
      ],
      "source": [
        "plt.imshow(random.choice(Feature_X_train), cmap='gray')\n",
        "plt.axis('off')"
      ]
    },
    {
      "cell_type": "code",
      "execution_count": null,
      "metadata": {
        "colab": {
          "base_uri": "https://localhost:8080/"
        },
        "id": "AtqWDF-03iDe",
        "outputId": "8d6fe044-0097-41fc-e11a-daa621ea4642"
      },
      "outputs": [
        {
          "data": {
            "text/plain": [
              "(197, 48, 48)"
            ]
          },
          "execution_count": 51,
          "metadata": {},
          "output_type": "execute_result"
        }
      ],
      "source": [
        "# doing same for test data \n",
        "Feature_X_test = Create_Hog_features(X_test)\n",
        "\n",
        "Feature_X_test.shape"
      ]
    },
    {
      "cell_type": "code",
      "execution_count": null,
      "metadata": {
        "colab": {
          "base_uri": "https://localhost:8080/",
          "height": 265
        },
        "id": "L-HLNlkW3iDe",
        "outputId": "a176ae4f-e5d9-4f24-ddd8-0a86e18174f8"
      },
      "outputs": [
        {
          "data": {
            "text/plain": [
              "(-0.5, 47.5, 47.5, -0.5)"
            ]
          },
          "execution_count": 52,
          "metadata": {},
          "output_type": "execute_result"
        },
        {
          "data": {
            "image/png": "[encoded data removed]",
            "text/plain": [
              "<Figure size 432x288 with 1 Axes>"
            ]
          },
          "metadata": {
            "needs_background": "light"
          },
          "output_type": "display_data"
        }
      ],
      "source": [
        "plt.imshow(random.choice(Feature_X_test), cmap='gray')\n",
        "plt.axis('off')"
      ]
    },
    {
      "cell_type": "code",
      "execution_count": null,
      "metadata": {
        "colab": {
          "base_uri": "https://localhost:8080/"
        },
        "id": "p6AycuHk3iDe",
        "outputId": "f3e9022c-b05f-4226-8254-afb29a7f8e8a"
      },
      "outputs": [
        {
          "name": "stdout",
          "output_type": "stream",
          "text": [
            "After adding color channel\n",
            "X_train_HOG shape:  (784, 48, 48, 1)\n",
            "X_test_HOG shape:  (197, 48, 48, 1)\n"
          ]
        }
      ],
      "source": [
        "# Again adding color channel as it got removed while converting img to hog img\n",
        "X_train_HOG = np.expand_dims(Feature_X_train, axis=3)\n",
        "X_test_HOG = np.expand_dims(Feature_X_test, axis=3)\n",
        "\n",
        "print(\"After adding color channel\")\n",
        "print(\"X_train_HOG shape: \", X_train_HOG.shape)\n",
        "print(\"X_test_HOG shape: \", X_test_HOG.shape)"
      ]
    },
    {
      "cell_type": "code",
      "execution_count": null,
      "metadata": {
        "colab": {
          "base_uri": "https://localhost:8080/"
        },
        "id": "70hb6IWT3iDf",
        "outputId": "9e3e5552-d3cc-490c-ff03-f76e32d1e72e"
      },
      "outputs": [
        {
          "name": "stdout",
          "output_type": "stream",
          "text": [
            "X_train_HOG shape:  (784, 48, 48, 1)\n",
            "y_train shape:  (784, 7)\n",
            "X_test_HOG shape:  (197, 48, 48, 1)\n",
            "y_test shape:  (197, 7)\n"
          ]
        }
      ],
      "source": [
        "print(\"X_train_HOG shape: \", X_train_HOG.shape)\n",
        "print(\"y_train shape: \", y_train.shape)\n",
        "print(\"X_test_HOG shape: \", X_test_HOG.shape)\n",
        "print(\"y_test shape: \", y_test.shape)"
      ]
    },
    {
      "cell_type": "markdown",
      "metadata": {
        "id": "sm5IpUCW3iDf"
      },
      "source": [
        "## Training and Testing the Hog - CNN model"
      ]
    },
    {
      "cell_type": "code",
      "execution_count": null,
      "metadata": {
        "id": "VRL4jhEh3iDf"
      },
      "outputs": [],
      "source": [
        "HOG_model = create_model()"
      ]
    },
    {
      "cell_type": "code",
      "execution_count": null,
      "metadata": {
        "colab": {
          "base_uri": "https://localhost:8080/"
        },
        "id": "gGrsvslL3iDf",
        "outputId": "c5fdb283-ea8d-46ed-c7bd-14c610bcf4c4"
      },
      "outputs": [
        {
          "name": "stdout",
          "output_type": "stream",
          "text": [
            "Model: \"sequential_3\"\n",
            "_________________________________________________________________\n",
            " Layer (type)                Output Shape              Param #   \n",
            "=================================================================\n",
            " conv2d_9 (Conv2D)           (None, 48, 48, 7)         182       \n",
            "                                                                 \n",
            " max_pooling2d_9 (MaxPooling  (None, 24, 24, 7)        0         \n",
            " 2D)                                                             \n",
            "                                                                 \n",
            " conv2d_10 (Conv2D)          (None, 24, 24, 16)        2816      \n",
            "                                                                 \n",
            " max_pooling2d_10 (MaxPoolin  (None, 12, 12, 16)       0         \n",
            " g2D)                                                            \n",
            "                                                                 \n",
            " dropout_6 (Dropout)         (None, 12, 12, 16)        0         \n",
            "                                                                 \n",
            " conv2d_11 (Conv2D)          (None, 10, 10, 64)        9280      \n",
            "                                                                 \n",
            " max_pooling2d_11 (MaxPoolin  (None, 5, 5, 64)         0         \n",
            " g2D)                                                            \n",
            "                                                                 \n",
            " dropout_7 (Dropout)         (None, 5, 5, 64)          0         \n",
            "                                                                 \n",
            " flatten_3 (Flatten)         (None, 1600)              0         \n",
            "                                                                 \n",
            " dense_6 (Dense)             (None, 128)               204928    \n",
            "                                                                 \n",
            " dense_7 (Dense)             (None, 7)                 903       \n",
            "                                                                 \n",
            "=================================================================\n",
            "Total params: 218,109\n",
            "Trainable params: 218,109\n",
            "Non-trainable params: 0\n",
            "_________________________________________________________________\n"
          ]
        }
      ],
      "source": [
        "HOG_model.summary()"
      ]
    },
    {
      "cell_type": "code",
      "execution_count": null,
      "metadata": {
        "id": "z2QCd8GV3iDg"
      },
      "outputs": [],
      "source": [
        "HOG_model.compile(loss='categorical_crossentropy', metrics=['accuracy'], optimizer='adam' )"
      ]
    },
    {
      "cell_type": "code",
      "execution_count": null,
      "metadata": {
        "colab": {
          "base_uri": "https://localhost:8080/"
        },
        "id": "Kog3MdTl3iDg",
        "outputId": "23750618-8d11-4b04-bae3-b761832695f7"
      },
      "outputs": [
        {
          "name": "stdout",
          "output_type": "stream",
          "text": [
            "Epoch 1/100\n",
            "98/98 [==============================] - 4s 44ms/step - loss: 0.1201 - accuracy: 0.9630 - val_loss: 0.2521 - val_accuracy: 0.9543 - lr: 1.0000e-08\n",
            "Epoch 2/100\n",
            "98/98 [==============================] - 3s 34ms/step - loss: 0.1276 - accuracy: 0.9528 - val_loss: 0.2521 - val_accuracy: 0.9543 - lr: 1.0000e-08\n",
            "Epoch 3/100\n",
            "98/98 [==============================] - 3s 34ms/step - loss: 0.1607 - accuracy: 0.9375 - val_loss: 0.2521 - val_accuracy: 0.9543 - lr: 1.0000e-08\n",
            "Epoch 4/100\n",
            "98/98 [==============================] - 3s 33ms/step - loss: 0.1324 - accuracy: 0.9617 - val_loss: 0.2521 - val_accuracy: 0.9543 - lr: 1.0000e-08\n",
            "Epoch 5/100\n",
            "98/98 [==============================] - 3s 34ms/step - loss: 0.1258 - accuracy: 0.9643 - val_loss: 0.2521 - val_accuracy: 0.9543 - lr: 1.0000e-08\n",
            "Epoch 6/100\n",
            "97/98 [============================>.] - ETA: 0s - loss: 0.1170 - accuracy: 0.9601\n",
            "Epoch 6: ReduceLROnPlateau reducing learning rate to 1.000000082740371e-09.\n",
            "98/98 [==============================] - 3s 34ms/step - loss: 0.1183 - accuracy: 0.9592 - val_loss: 0.2521 - val_accuracy: 0.9543 - lr: 1.0000e-08\n",
            "Epoch 7/100\n",
            "98/98 [==============================] - 3s 34ms/step - loss: 0.1181 - accuracy: 0.9656 - val_loss: 0.2521 - val_accuracy: 0.9543 - lr: 1.0000e-09\n",
            "Epoch 8/100\n",
            "98/98 [==============================] - 3s 33ms/step - loss: 0.1393 - accuracy: 0.9464 - val_loss: 0.2521 - val_accuracy: 0.9543 - lr: 1.0000e-09\n",
            "Epoch 9/100\n",
            "98/98 [==============================] - 3s 34ms/step - loss: 0.1415 - accuracy: 0.9630 - val_loss: 0.2521 - val_accuracy: 0.9543 - lr: 1.0000e-09\n",
            "Epoch 10/100\n",
            "98/98 [==============================] - 3s 33ms/step - loss: 0.1419 - accuracy: 0.9515 - val_loss: 0.2521 - val_accuracy: 0.9543 - lr: 1.0000e-09\n",
            "Epoch 11/100\n",
            "97/98 [============================>.] - ETA: 0s - loss: 0.1321 - accuracy: 0.9626Restoring model weights from the end of the best epoch: 1.\n",
            "\n",
            "Epoch 11: ReduceLROnPlateau reducing learning rate to 1.000000082740371e-10.\n",
            "98/98 [==============================] - 3s 34ms/step - loss: 0.1309 - accuracy: 0.9630 - val_loss: 0.2521 - val_accuracy: 0.9543 - lr: 1.0000e-09\n",
            "Epoch 11: early stopping\n"
          ]
        }
      ],
      "source": [
        "HOG_history = HOG_model.fit(X_train_HOG, y_train, batch_size=8 , epochs=100, validation_data = (X_test_HOG, y_test), callbacks = [callbacks])"
      ]
    },
    {
      "cell_type": "code",
      "execution_count": null,
      "metadata": {
        "colab": {
          "base_uri": "https://localhost:8080/",
          "height": 499
        },
        "id": "1k-v6XZO3iDg",
        "outputId": "79270d92-1171-428f-dec1-86cbc8f55fb0"
      },
      "outputs": [
        {
          "data": {
            "image/png": "[encoded data removed]",
            "text/plain": [
              "<Figure size 864x576 with 2 Axes>"
            ]
          },
          "metadata": {
            "needs_background": "light"
          },
          "output_type": "display_data"
        }
      ],
      "source": [
        "plot_performance(HOG_history)"
      ]
    },
    {
      "cell_type": "code",
      "execution_count": null,
      "metadata": {
        "colab": {
          "base_uri": "https://localhost:8080/"
        },
        "id": "5DkcLvPn3iDg",
        "outputId": "c2233ea7-7574-4c14-db96-4a347b125efc"
      },
      "outputs": [
        {
          "name": "stdout",
          "output_type": "stream",
          "text": [
            "HOG Accuracy : 0.9543147087097168\n"
          ]
        }
      ],
      "source": [
        "HOG_acc = HOG_model.evaluate(X_test_HOG, y_test, verbose = 0)[1]\n",
        "acc.append(HOG_acc)\n",
        "print(\"HOG Accuracy :\",HOG_model.evaluate(X_test_HOG, y_test, verbose = 0)[1])"
      ]
    },
    {
      "cell_type": "code",
      "execution_count": null,
      "metadata": {
        "id": "f-8RpecE3iDh"
      },
      "outputs": [],
      "source": [
        "HOG_model.save('HOG_model.h5')"
      ]
    }
  ],
  "metadata": {
    "colab": {
      "provenance": []
    },
    "kernelspec": {
      "display_name": "Python 3 (ipykernel)",
      "language": "python",
      "name": "python3"
    },
    "language_info": {
      "codemirror_mode": {
        "name": "ipython",
        "version": 3
      },
      "file_extension": ".py",
      "mimetype": "text/x-python",
      "name": "python",
      "nbconvert_exporter": "python",
      "pygments_lexer": "ipython3",
      "version": "3.10.6"
    }
  },
  "nbformat": 4,
  "nbformat_minor": 0
}
